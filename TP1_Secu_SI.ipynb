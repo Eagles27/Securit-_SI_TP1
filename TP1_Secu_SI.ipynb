{
 "cells": [
  {
   "cell_type": "code",
   "execution_count": 1,
   "metadata": {},
   "outputs": [],
   "source": [
    "from PIL import Image"
   ]
  },
  {
   "cell_type": "code",
   "execution_count": 2,
   "metadata": {},
   "outputs": [],
   "source": [
    "def cacher_image(image_conteneur, image_secrete):\n",
    "    largeur, hauteur = image_conteneur.size\n",
    "    image_finale = Image.new('RGB', (largeur, hauteur))\n",
    "\n",
    "    for x in range(largeur):\n",
    "        for y in range(hauteur):\n",
    "            pixel_conteneur = image_conteneur.getpixel((x, y))\n",
    "            pixel_secret = image_secrete.getpixel((x % image_secrete.width, y % image_secrete.height))\n",
    "\n",
    "            r_conteneur, g_conteneur, b_conteneur = pixel_conteneur\n",
    "            r_secret, g_secret, b_secret = pixel_secret\n",
    "\n",
    "            # Supprimer les bits de poids faible du conteneur\n",
    "            r_conteneur &= 0b11111100\n",
    "            g_conteneur &= 0b11111100\n",
    "            b_conteneur &= 0b11111100\n",
    "\n",
    "            # Décaler les bits de poids fort du secret vers les bits de poids faible\n",
    "            r_secret >>= 2\n",
    "            g_secret >>= 2\n",
    "            b_secret >>= 2\n",
    "\n",
    "            # Ajouter les bits de poids fort du conteneur aux bits de poids faible du secret\n",
    "            r_final = r_conteneur | r_secret\n",
    "            g_final = g_conteneur | g_secret\n",
    "            b_final = b_conteneur | b_secret\n",
    "\n",
    "            pixel_final = (r_final, g_final, b_final)\n",
    "            image_finale.putpixel((x, y), pixel_final)\n",
    "\n",
    "    return image_finale"
   ]
  },
  {
   "cell_type": "code",
   "execution_count": 3,
   "metadata": {},
   "outputs": [],
   "source": [
    "# Charger les images conteneur et secrète\n",
    "image_conteneur = Image.open(\"paysage1.bmp\")\n",
    "image_secrete = Image.open(\"paysage2.bmp\")"
   ]
  },
  {
   "cell_type": "code",
   "execution_count": 4,
   "metadata": {},
   "outputs": [],
   "source": [
    "# Cacher l'image secrète dans l'image conteneur\n",
    "image_resultat = cacher_image(image_conteneur, image_secrete)"
   ]
  },
  {
   "cell_type": "code",
   "execution_count": 5,
   "metadata": {},
   "outputs": [
    {
     "name": "stdout",
     "output_type": "stream",
     "text": [
      "L'image finale a été créée avec succès.\n"
     ]
    }
   ],
   "source": [
    "# Sauvegarder l'image résultante en BMP (sans compression)\n",
    "image_resultat.save(\"image_finale.bmp\", format=\"BMP\")\n",
    "\n",
    "print(\"L'image finale a été créée avec succès.\")"
   ]
  }
 ],
 "metadata": {
  "kernelspec": {
   "display_name": "Python 3",
   "language": "python",
   "name": "python3"
  },
  "language_info": {
   "codemirror_mode": {
    "name": "ipython",
    "version": 3
   },
   "file_extension": ".py",
   "mimetype": "text/x-python",
   "name": "python",
   "nbconvert_exporter": "python",
   "pygments_lexer": "ipython3",
   "version": "3.11.5"
  }
 },
 "nbformat": 4,
 "nbformat_minor": 2
}
