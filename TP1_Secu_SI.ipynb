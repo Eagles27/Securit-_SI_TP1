{
 "cells": [
  {
   "cell_type": "code",
   "execution_count": 3,
   "metadata": {},
   "outputs": [],
   "source": [
    "from PIL import Image"
   ]
  },
  {
   "cell_type": "code",
   "execution_count": 2,
   "metadata": {},
   "outputs": [],
   "source": [
    "def cacher_image(image_conteneur, image_secrete):\n",
    "    largeur, hauteur = image_conteneur.size\n",
    "    image_finale = Image.new('RGB', (largeur, hauteur))\n",
    "\n",
    "    for x in range(largeur):\n",
    "        for y in range(hauteur):\n",
    "            pixel_conteneur = image_conteneur.getpixel((x, y))\n",
    "            pixel_secret = image_secrete.getpixel((x % image_secrete.width, y % image_secrete.height))\n",
    "\n",
    "            r_conteneur, g_conteneur, b_conteneur = pixel_conteneur\n",
    "            r_secret, g_secret, b_secret = pixel_secret\n",
    "\n",
    "            # Supprimer les bits de poids faible du conteneur\n",
    "            r_conteneur &= 0b11111100\n",
    "            g_conteneur &= 0b11111100\n",
    "            b_conteneur &= 0b11111100\n",
    "\n",
    "            # Décaler les bits de poids fort du secret vers les bits de poids faible\n",
    "            r_secret >>= 2\n",
    "            g_secret >>= 2\n",
    "            b_secret >>= 2\n",
    "\n",
    "            # Ajouter les bits de poids fort du conteneur aux bits de poids faible du secret\n",
    "            r_final = r_conteneur | r_secret\n",
    "            g_final = g_conteneur | g_secret\n",
    "            b_final = b_conteneur | b_secret\n",
    "\n",
    "            pixel_final = (r_final, g_final, b_final)\n",
    "            image_finale.putpixel((x, y), pixel_final)\n",
    "\n",
    "    return image_finale"
   ]
  },
  {
   "cell_type": "code",
   "execution_count": 3,
   "metadata": {},
   "outputs": [],
   "source": [
    "# Charger les images conteneur et secrète\n",
    "image_conteneur = Image.open(\"paysage1.bmp\")\n",
    "image_secrete = Image.open(\"paysage2.bmp\")"
   ]
  },
  {
   "cell_type": "code",
   "execution_count": 4,
   "metadata": {},
   "outputs": [],
   "source": [
    "# Cacher l'image secrète dans l'image conteneur\n",
    "image_resultat = cacher_image(image_conteneur, image_secrete)"
   ]
  },
  {
   "cell_type": "code",
   "execution_count": 5,
   "metadata": {},
   "outputs": [
    {
     "name": "stdout",
     "output_type": "stream",
     "text": [
      "L'image finale a été créée avec succès.\n"
     ]
    }
   ],
   "source": [
    "# Sauvegarder l'image résultante en BMP (sans compression)\n",
    "image_resultat.save(\"image_finale.bmp\", format=\"BMP\")\n",
    "\n",
    "print(\"L'image finale a été créée avec succès.\")"
   ]
  },
  {
   "cell_type": "code",
   "execution_count": 1,
   "metadata": {},
   "outputs": [],
   "source": [
    "def extraire_secret(image_contenant_secret):\n",
    "    largeur, hauteur = image_contenant_secret.size\n",
    "    image_secret = Image.new('RGB', (largeur, hauteur))\n",
    "\n",
    "    for x in range(largeur):\n",
    "        for y in range(hauteur):\n",
    "            pixel_contenant_secret = image_contenant_secret.getpixel((x, y))\n",
    "\n",
    "            r_contenant_secret, g_contenant_secret, b_contenant_secret = pixel_contenant_secret\n",
    "\n",
    "            # Décaler les bits de poids faible en bits de poids fort\n",
    "            r_secret = r_contenant_secret << 2\n",
    "            g_secret = g_contenant_secret << 2\n",
    "            b_secret = b_contenant_secret << 2\n",
    "\n",
    "            # Ecrêter chaque composante de couleur sur 8 bits\n",
    "            r_secret &= 0b11111111\n",
    "            g_secret &= 0b11111111\n",
    "            b_secret &= 0b11111111\n",
    "\n",
    "            pixel_secret = (r_secret, g_secret, b_secret)\n",
    "            image_secret.putpixel((x, y), pixel_secret)\n",
    "\n",
    "    return image_secret"
   ]
  },
  {
   "cell_type": "code",
   "execution_count": 4,
   "metadata": {},
   "outputs": [],
   "source": [
    "# Charger l'image contenant le secret\n",
    "image_contenant_secret = Image.open(\"image_finale.bmp\")"
   ]
  },
  {
   "cell_type": "code",
   "execution_count": 5,
   "metadata": {},
   "outputs": [],
   "source": [
    "# Extraire le secret de l'image\n",
    "image_secret = extraire_secret(image_contenant_secret)"
   ]
  },
  {
   "cell_type": "code",
   "execution_count": 6,
   "metadata": {},
   "outputs": [
    {
     "name": "stdout",
     "output_type": "stream",
     "text": [
      "Le secret a été extrait avec succès.\n"
     ]
    }
   ],
   "source": [
    "# Sauvegarder l'image secrète extraite\n",
    "image_secret.save(\"secret_extrait.bmp\", format=\"BMP\")\n",
    "\n",
    "print(\"Le secret a été extrait avec succès.\")"
   ]
  }
 ],
 "metadata": {
  "kernelspec": {
   "display_name": "Python 3",
   "language": "python",
   "name": "python3"
  },
  "language_info": {
   "codemirror_mode": {
    "name": "ipython",
    "version": 3
   },
   "file_extension": ".py",
   "mimetype": "text/x-python",
   "name": "python",
   "nbconvert_exporter": "python",
   "pygments_lexer": "ipython3",
   "version": "3.11.5"
  }
 },
 "nbformat": 4,
 "nbformat_minor": 2
}
